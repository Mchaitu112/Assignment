{
 "cells": [
  {
   "cell_type": "markdown",
   "id": "fc9d941c",
   "metadata": {},
   "source": [
    "1.\tCreate a python program to find duplicate files by content. User will input path and it will scan all directories, sub-directories to find all duplicates files.\n",
    "Delete the found duplicate file.\n",
    "[Hint: use hashlib]\n"
   ]
  },
  {
   "cell_type": "code",
   "execution_count": 1,
   "id": "bf200b1e",
   "metadata": {},
   "outputs": [
    {
     "name": "stdout",
     "output_type": "stream",
     "text": [
      "Enter the path to scan: C:\\Users\\cmunagala\\Desktop\\python\n",
      "No duplicate files found.\n"
     ]
    }
   ],
   "source": [
    "import os\n",
    "import hashlib\n",
    "\n",
    "def find_duplicate_files(path):\n",
    "    # create a dictionary to store file hashes and their paths\n",
    "    file_dict = {}\n",
    "\n",
    "    # traverse through all files and subdirectories in the given path\n",
    "    for dirpath, dirnames, filenames in os.walk(path):\n",
    "        for filename in filenames:\n",
    "            # calculate hash of the current file\n",
    "            file_path = os.path.join(dirpath, filename)\n",
    "            with open(file_path, \"rb\") as f:\n",
    "                file_hash = hashlib.sha256(f.read()).hexdigest()\n",
    "\n",
    "            # add the file path to the dictionary\n",
    "            if file_hash in file_dict:\n",
    "                file_dict[file_hash].append(file_path)\n",
    "            else:\n",
    "                file_dict[file_hash] = [file_path]\n",
    "\n",
    "    # return the list of duplicate files\n",
    "    return [paths for paths in file_dict.values() if len(paths) > 1]\n",
    "\n",
    "def delete_duplicate_files(duplicate_files):\n",
    "    for file_paths in duplicate_files:\n",
    "        # keep the first file and delete the rest\n",
    "        for path in file_paths[1:]:\n",
    "            os.remove(path)\n",
    "\n",
    "if __name__ == \"__main__\":\n",
    "    # get the path from the user\n",
    "    path = input(\"Enter the path to scan: \")\n",
    "\n",
    "    # find duplicate files\n",
    "    duplicate_files = find_duplicate_files(path)\n",
    "\n",
    "    if duplicate_files:\n",
    "        print(\"Found duplicate files:\")\n",
    "        for file_paths in duplicate_files:\n",
    "            print(file_paths)\n",
    "        \n",
    "        # ask for confirmation before deleting files\n",
    "        confirm = input(\"Do you want to delete the duplicate files? (y/n): \")\n",
    "        if confirm.lower() == \"y\":\n",
    "            delete_duplicate_files(duplicate_files)\n",
    "            print(\"Duplicate files deleted.\")\n",
    "        else:\n",
    "            print(\"Duplicate files not deleted.\")\n",
    "    else:\n",
    "        print(\"No duplicate files found.\")"
   ]
  },
  {
   "cell_type": "markdown",
   "id": "31baf21a",
   "metadata": {},
   "source": [
    "2.\tGenerate random Password with exact length = 6, with minimum 1 uppercase, 2 lowercase, 2 digits, and remaining special characters.\n",
    "Using these packages [random, strings]\n"
   ]
  },
  {
   "cell_type": "code",
   "execution_count": 8,
   "id": "d857e21c",
   "metadata": {},
   "outputs": [
    {
     "name": "stdout",
     "output_type": "stream",
     "text": [
      "Random password:  n7E4kf\n"
     ]
    }
   ],
   "source": [
    "import random\n",
    "import string\n",
    "# define the password length and character requirements\n",
    "password_length = 6\n",
    "uppercase_letters = 1\n",
    "lowercase_letters = 2\n",
    "digits = 2\n",
    "\n",
    "# define the character sets for each category\n",
    "uppercase_set = string.ascii_uppercase\n",
    "lowercase_set = string.ascii_lowercase\n",
    "digit_set = string.digits\n",
    "special_set = string.punctuation\n",
    "\n",
    "# initialize the password as an empty string\n",
    "password = \"\"\n",
    "\n",
    "# choose one uppercase letter at random and add it to the password\n",
    "password += random.choice(uppercase_set)\n",
    "\n",
    "# choose two lowercase letters at random and add them to the password\n",
    "for i in range(lowercase_letters):\n",
    "    password += random.choice(lowercase_set)\n",
    "\n",
    "# choose two digits at random and add them to the password\n",
    "for i in range(digits):\n",
    "    password += random.choice(digit_set)\n",
    "\n",
    "# choose the remaining characters at random from all the sets and add them to the password\n",
    "remaining_length = password_length - uppercase_letters - lowercase_letters - digits\n",
    "for i in range(remaining_length):\n",
    "    password += random.choice(uppercase_set + lowercase_set + digit_set + special_set)\n",
    "\n",
    "# shuffle the password to make it more random\n",
    "password_list = list(password)\n",
    "random.shuffle(password_list)\n",
    "password = \"\".join(password_list)\n",
    "\n",
    "# print the password\n",
    "print(\"Random password: \", password)"
   ]
  },
  {
   "cell_type": "markdown",
   "id": "c8637462",
   "metadata": {},
   "source": [
    "3.\tCreate 2D array and update the same 2D array provided that every prime number position should be replaced by cube of the positioned number."
   ]
  },
  {
   "cell_type": "code",
   "execution_count": 4,
   "id": "badc6f58",
   "metadata": {},
   "outputs": [
    {
     "name": "stdout",
     "output_type": "stream",
     "text": [
      "[[0, 8, 27, 0, 125], [0, 343, 0, 0, 0], [1331, 0, 2197, 0, 0], [0, 4913, 0, 6859, 0], [0, 0, 12167, 0, 0]]\n"
     ]
    }
   ],
   "source": [
    "import math\n",
    "\n",
    "# Create a 2D array of size n x m\n",
    "n = 5\n",
    "m = 5\n",
    "arr = [[0 for j in range(m)] for i in range(n)]\n",
    "# Update the array by replacing prime number positions with cube of positioned number\n",
    "for i in range(n):\n",
    "    for j in range(m):\n",
    "        num = i * m + j + 1  # Get the number corresponding to the position\n",
    "        if is_prime(num):\n",
    "            arr[i][j] = num ** 3\n",
    "\n",
    "\n",
    "# Print the updated array\n",
    "print(arr)\n",
    "\n",
    "# Function to check if a number is prime\n",
    "def is_prime(num):\n",
    "    if num < 2:\n",
    "        return False\n",
    "    for i in range(2, int(math.sqrt(num))+1):\n",
    "        if num % i == 0:\n",
    "            return False\n",
    "    return True\n",
    "\n"
   ]
  },
  {
   "cell_type": "markdown",
   "id": "c58ce482",
   "metadata": {},
   "source": [
    "4.\tPython program to get the sum of every cubed value and its previous integer. "
   ]
  },
  {
   "cell_type": "code",
   "execution_count": 6,
   "id": "58bdd958",
   "metadata": {},
   "outputs": [],
   "source": [
    "def sum_cubed_plus_prev(n):\n",
    "    total = 0\n",
    "    for i in range(1, n+1):\n",
    "        total += i**3 + (i-1)\n",
    "    return total\n"
   ]
  },
  {
   "cell_type": "code",
   "execution_count": 7,
   "id": "a89a6f76",
   "metadata": {},
   "outputs": [
    {
     "data": {
      "text/plain": [
       "235"
      ]
     },
     "execution_count": 7,
     "metadata": {},
     "output_type": "execute_result"
    }
   ],
   "source": [
    "sum_cubed_plus_prev(5)  "
   ]
  },
  {
   "cell_type": "markdown",
   "id": "30f80ff8",
   "metadata": {},
   "source": [
    "5.\tGiven two arrays, find their intersection. Examples:\n",
    "\n",
    "Input:  arr1[] = [1, 3, 4, 5, 7]\n",
    "        arr2[] = [2, 3, 5, 6]\n"
   ]
  },
  {
   "cell_type": "code",
   "execution_count": 5,
   "id": "80433cd1",
   "metadata": {},
   "outputs": [
    {
     "name": "stdout",
     "output_type": "stream",
     "text": [
      "Intersection of the lists is: [3, 5]\n"
     ]
    }
   ],
   "source": [
    "arr1 = [1, 3, 4, 5, 7]\n",
    "arr2 = [2, 3, 5, 6]\n",
    "arr_3 = []\n",
    "for i in arr1:\n",
    "    if i in arr2:\n",
    "        arr_3.append(element)\n",
    "print(\"Intersection of the lists is:\", arr_3)"
   ]
  },
  {
   "cell_type": "markdown",
   "id": "f9e654d4",
   "metadata": {},
   "source": [
    "6.\tCreate a 7 x 7  2D array having only multiples of 7. And return the last element of the same."
   ]
  },
  {
   "cell_type": "code",
   "execution_count": 6,
   "id": "73c4037c",
   "metadata": {},
   "outputs": [
    {
     "name": "stdout",
     "output_type": "stream",
     "text": [
      "[[7, 14, 21, 28, 35, 42, 49], [14, 28, 42, 56, 70, 84, 98], [21, 42, 63, 84, 105, 126, 147], [28, 56, 84, 112, 140, 168, 196], [35, 70, 105, 140, 175, 210, 245], [42, 84, 126, 168, 210, 252, 294], [49, 98, 147, 196, 245, 294, 343]]\n",
      "Last element of the array:  343\n"
     ]
    }
   ],
   "source": [
    "array_2d = [[0 for i in range(7)] for j in range(7)]\n",
    "\n",
    "# fill the array with multiples of 7\n",
    "for i in range(7):\n",
    "    for j in range(7):\n",
    "        array_2d[i][j] = (i+1) * (j+1) * 7\n",
    "\n",
    "# print the array\n",
    "print(array_2d)\n",
    "\n",
    "# return the last element of the array\n",
    "last_element = array_2d[6][6]\n",
    "print(\"Last element of the array: \", last_element)"
   ]
  },
  {
   "cell_type": "markdown",
   "id": "5345bc52",
   "metadata": {},
   "source": [
    "\n",
    "7.\tChecker Board Patten using Numpy:\n",
    "[   1   0   1   0   1   0   1\n",
    "    0   1   0   1   0   1   0\n",
    "    1   0   1   0   1   0   1\n",
    "    0   1   0   1   0   1   0\n",
    "    1   0   1   0   1   0   1  ]\n"
   ]
  },
  {
   "cell_type": "code",
   "execution_count": 9,
   "id": "00394822",
   "metadata": {},
   "outputs": [
    {
     "name": "stdout",
     "output_type": "stream",
     "text": [
      "[[1 0 1 0 1 0 1]\n",
      " [0 1 0 1 0 1 0]\n",
      " [1 0 1 0 1 0 1]\n",
      " [0 1 0 1 0 1 0]\n",
      " [1 0 1 0 1 0 1]]\n"
     ]
    }
   ],
   "source": [
    "\n",
    "import numpy as np\n",
    "\n",
    "pattern = np.zeros((5, 7), dtype=int)  # create an n x n matrix of zeros\n",
    "\n",
    "# set every other element to 1\n",
    "pattern[::2, ::2] = 1\n",
    "pattern[1::2, 1::2] = 1\n",
    "\n",
    "print(pattern)\n"
   ]
  },
  {
   "cell_type": "markdown",
   "id": "12d06e6a",
   "metadata": {},
   "source": [
    "\n",
    "8.\tCreate a given Matrix:\n",
    "[  A,   B,     C,       D\n",
    "   E,      F,     G,       H\n",
    "    I,      a,      K,       L\n",
    "   M,    N,     o,       P\n",
    "   Q,     R,      S,       T\n",
    "   U,     0,     W,      O ]\n",
    "\n",
    "Replace all the vowels by np.nan\n",
    "A, E, I, O U  -- >  np.nan\n",
    "Return the count of the missing values\n"
   ]
  },
  {
   "cell_type": "code",
   "execution_count": 14,
   "id": "d7ffbab6",
   "metadata": {},
   "outputs": [
    {
     "name": "stdout",
     "output_type": "stream",
     "text": [
      "[['' 'B' 'C' 'D']\n",
      " ['' 'F' 'G' 'H']\n",
      " ['' 'a' 'K' 'L']\n",
      " ['M' 'N' 'o' 'P']\n",
      " ['Q' 'R' 'S' 'T']\n",
      " ['' '0' 'W' '']]\n",
      "Count of missing values: 5\n"
     ]
    }
   ],
   "source": [
    "import numpy as np\n",
    "\n",
    "# create the matrix\n",
    "matrix = np.array([['A', 'B', 'C', 'D'],\n",
    "                   ['E', 'F', 'G', 'H'],\n",
    "                   ['I', 'a', 'K', 'L'],\n",
    "                   ['M', 'N', 'o', 'P'],\n",
    "                   ['Q', 'R', 'S', 'T'],\n",
    "                   ['U', '0', 'W', 'O']])\n",
    "\n",
    "# replace vowels with empty string\n",
    "vowels = ['A', 'E', 'I', 'O', 'U']\n",
    "for vowel in vowels:\n",
    "    matrix[matrix == vowel] = ''\n",
    "\n",
    "# count missing values\n",
    "count_missing = np.count_nonzero(matrix == '')\n",
    "\n",
    "print(matrix)\n",
    "print(\"Count of missing values:\", count_missing)\n"
   ]
  },
  {
   "cell_type": "code",
   "execution_count": null,
   "id": "6b833eec",
   "metadata": {},
   "outputs": [],
   "source": []
  }
 ],
 "metadata": {
  "kernelspec": {
   "display_name": "Python 3 (ipykernel)",
   "language": "python",
   "name": "python3"
  },
  "language_info": {
   "codemirror_mode": {
    "name": "ipython",
    "version": 3
   },
   "file_extension": ".py",
   "mimetype": "text/x-python",
   "name": "python",
   "nbconvert_exporter": "python",
   "pygments_lexer": "ipython3",
   "version": "3.9.13"
  }
 },
 "nbformat": 4,
 "nbformat_minor": 5
}
