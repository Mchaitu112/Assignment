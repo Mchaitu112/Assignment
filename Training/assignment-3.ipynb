{
 "cells": [
  {
   "cell_type": "markdown",
   "id": "fc073f69",
   "metadata": {},
   "source": [
    "1. Create a CountDividedBy() Function:\n",
    "This function will take a list of integers as an Input and return an Integer count of numbers \n",
    "that satisfies the condition, mentioned below.\n",
    "Sample Input:\n",
    "e.g. Assume you have given list of 4 integers with values 3, 5, 15, 11, then given input as \n",
    "follows:\n",
    "4\n",
    "3\n",
    "7\n",
    "12\n",
    "21\n",
    "Sample Output\n",
    "1\n",
    "Explanation: Only 12 out of all input list of numbers will be divisible by both 3 and 4 but sum \n",
    "of digits of 12, i.e., 1 + 2 = 3 is not divisible by 5.\n"
   ]
  },
  {
   "cell_type": "code",
   "execution_count": 12,
   "id": "55908e3f",
   "metadata": {},
   "outputs": [],
   "source": [
    "def CountDividedBy(numbers):\n",
    "    count = 0\n",
    "    for num in numbers:\n",
    "        if num % 3 == 0 and num % 4 == 0 and num % 5 != 0 and sum(int(digit) for digit in str(num)) % 5 != 0:\n",
    "            count += 1\n",
    "    return count\n"
   ]
  },
  {
   "cell_type": "code",
   "execution_count": 13,
   "id": "e998a35c",
   "metadata": {},
   "outputs": [
    {
     "name": "stdout",
     "output_type": "stream",
     "text": [
      "1\n"
     ]
    }
   ],
   "source": [
    "numbers = [3, 5, 15, 11, 12]\n",
    "count = CountDividedBy(numbers)\n",
    "print(count)  # Output: 1\n",
    "\n"
   ]
  },
  {
   "cell_type": "markdown",
   "id": "697e7cc6",
   "metadata": {},
   "source": [
    "2.Create a function StringBinaryOperations ()\n",
    "Description:\n",
    "The Binary number system uses two digits 0 and 1 and number system can be called binary \n",
    "string. You are required to implement given function\n",
    "StringBinaryOperations() This function accepts a string str as its argument. The string str \n",
    "consists of binary digits separated with an alphabet as follows:\n",
    "- X denotes AND operation\n",
    "- Y denotes OR operation\n",
    "- Z denotes XOR Operation\n",
    "You are required to calculate the result of the string, scanning the string to right taking one \n",
    "operation at a time, and return the same.\n",
    "Note:\n",
    "• No order of priorities of operations is required\n",
    "• Length of str is odd\n",
    "• If str is NULL / None (in case of Python), return “Invalid Input”\n",
    "Input str: 1Z0Z1Z1X0Y1\n",
    "Output: 1\n"
   ]
  },
  {
   "cell_type": "code",
   "execution_count": 14,
   "id": "7da48cb3",
   "metadata": {},
   "outputs": [],
   "source": [
    "def StringBinaryOperations(str):\n",
    "    if not str:\n",
    "        return \"Invalid Input\"\n",
    "\n",
    "    # Split the string into binary digits and operators\n",
    "    digits = []\n",
    "    operators = []\n",
    "    for i, char in enumerate(str):\n",
    "        if i % 2 == 0:\n",
    "            digits.append(int(char))\n",
    "        else:\n",
    "            operators.append(char)\n",
    "\n",
    "    # Perform the binary operations\n",
    "    result = digits[0]\n",
    "    for i in range(len(operators)):\n",
    "        if operators[i] == 'X':\n",
    "            result &= digits[i+1]\n",
    "        elif operators[i] == 'Y':\n",
    "            result |= digits[i+1]\n",
    "        elif operators[i] == 'Z':\n",
    "            result ^= digits[i+1]\n",
    "\n",
    "    return result\n"
   ]
  },
  {
   "cell_type": "code",
   "execution_count": 15,
   "id": "5665f495",
   "metadata": {},
   "outputs": [
    {
     "name": "stdout",
     "output_type": "stream",
     "text": [
      "1\n"
     ]
    }
   ],
   "source": [
    "result = StringBinaryOperations('1Z0Z1Z1X0Y1')\n",
    "print(result)  # Output: 1\n"
   ]
  },
  {
   "cell_type": "markdown",
   "id": "5e512e29",
   "metadata": {},
   "source": [
    "3. Create a class Account with the below attributes:\n",
    "accntNo (Integer)\n",
    "accntName (String)\n",
    "accntBalance (Integer)\n",
    "Create a constructor which takes all parameters in the above sequence.\n",
    "Create a class AccountDemo Create a default constructor in the AccountDemo class as \n",
    "below \n",
    "def __init__(self):\n",
    "pass\n",
    "Create a method depositAmnt which takes an account object and amount to be deposited\n",
    "(amount) as input parameters. Update the balance i.e. Add the amount to the \n",
    "existingbalance and return the updated balanceCreate another method withdrawAmnt \n",
    "which takes an Account object and amount to bedeposited (amount) as input parameters. \n",
    "Deduct the amount from the balance and returnthe updated balance. Minimum balance to \n",
    "be maintained is 10000. i.e if the balance isbecoming less than 10000 when deducting the \n",
    "withdrawal amount, the operation needs tobe stopped with a message “No Adequate \n",
    "balance”. \n",
    "Create a main function if __name__ == ‘__main__’. Declare all user’s input using input() \n",
    "required."
   ]
  },
  {
   "cell_type": "code",
   "execution_count": null,
   "id": "bb1fc5da",
   "metadata": {},
   "outputs": [
    {
     "name": "stdout",
     "output_type": "stream",
     "text": [
      "Enter Account Number: 2000\n",
      "Enter Account Name: chaithanya\n",
      "Enter Account Balance: 4000\n",
      "Enter Choice - 1: Deposit, 2: Withdraw, 3: Exit: 2\n",
      "Enter Amount to Withdraw: 200\n",
      "No Adequate balance\n",
      "Updated Balance: 4000\n"
     ]
    }
   ],
   "source": [
    "class Account:\n",
    "    def __init__(self, accntNo, accntName, accntBalance):\n",
    "        self.accntNo = accntNo\n",
    "        self.accntName = accntName\n",
    "        self.accntBalance = accntBalance\n",
    "        \n",
    "class AccountDemo:\n",
    "    def __init__(self):\n",
    "        pass\n",
    "    \n",
    "    def depositAmnt(self, account, amount):\n",
    "        account.accntBalance += amount\n",
    "        return account.accntBalance\n",
    "    \n",
    "    def withdrawAmnt(self, account, amount):\n",
    "        if account.accntBalance - amount < 10000:\n",
    "            print(\"No Adequate balance\")\n",
    "        else:\n",
    "            account.accntBalance -= amount\n",
    "        return account.accntBalance\n",
    "\n",
    "if __name__ == '__main__':\n",
    "    accntNo = int(input(\"Enter Account Number: \"))\n",
    "    accntName = input(\"Enter Account Name: \")\n",
    "    accntBalance = int(input(\"Enter Account Balance: \"))\n",
    "    \n",
    "    account = Account(accntNo, accntName, accntBalance)\n",
    "    accountDemo = AccountDemo()\n",
    "    \n",
    "    while True:\n",
    "        choice = input(\"Enter Choice - 1: Deposit, 2: Withdraw, 3: Exit: \")\n",
    "        \n",
    "        if choice == '1':\n",
    "            amount = int(input(\"Enter Amount to Deposit: \"))\n",
    "            balance = accountDemo.depositAmnt(account, amount)\n",
    "            print(\"Updated Balance:\", balance)\n",
    "        elif choice == '2':\n",
    "            amount = int(input(\"Enter Amount to Withdraw: \"))\n",
    "            balance = accountDemo.withdrawAmnt(account, amount)\n",
    "            if balance:\n",
    "                print(\"Updated Balance:\", balance)\n",
    "        elif choice == '3':\n",
    "            break\n",
    "        else:\n",
    "            print(\"Invalid Choice\")\n"
   ]
  },
  {
   "cell_type": "markdown",
   "id": "39a15fd8",
   "metadata": {},
   "source": [
    "4.Problem Statement:\n",
    "An Autobiographical Number is a number N such that the first digit of N represents the \n",
    "count of how many zeroes are there in N, the second digit represents the count of how \n",
    "many ones are there in N and so on.\n",
    "You are given a function, def FindAutoCount(n):\n",
    "The function accepts string “n” which is a number and checks whether the number is an \n",
    "autobiographical number or not. If it is, an integer is returned, i.e. the count of distinct \n",
    "numbers in ‘n’. If not, it returns 0.\n",
    "Assumption:\n",
    "The input string will not be longer than 10 characters.\n",
    "Input string will consist of numeric characters.\n",
    "Note:\n",
    "If string is None return 0.\n",
    "Example:\n",
    "Input:\n",
    "n: “1210”\n",
    "Output:\n",
    "3\n",
    "Explanation:\n",
    "0th position in the input contains the number of 0 present in input, i.e., 1, in 1st position the \n",
    "count of number of 1s in input i.e. 2, in 2nd position the count of 2s in input i.e. 1, and in 3rd \n",
    "position the count of 3s i.e. 0, so the number is an autobiographical number.\n",
    "Now unique numbers in the input are 0, 1, 2, so the count of unique numbers is 3\n"
   ]
  },
  {
   "cell_type": "code",
   "execution_count": null,
   "id": "bf2dc053",
   "metadata": {},
   "outputs": [],
   "source": [
    "def FindAutoCount(n):\n",
    "    if n is None:\n",
    "        return 0\n",
    "    count = [0] * 10  # initialize count array with zeros\n",
    "    for c in n:\n",
    "        if not c.isdigit():\n",
    "            return 0\n",
    "        count[int(c)] += 1  # increment count of corresponding digit\n",
    "    for i, c in enumerate(str(len(n))):\n",
    "        if count[i] != int(c):\n",
    "            return 0\n",
    "    return len(set(n))\n",
    "\n"
   ]
  },
  {
   "cell_type": "code",
   "execution_count": null,
   "id": "bdb772f3",
   "metadata": {},
   "outputs": [],
   "source": [
    "def FindAutoCount(n):\n",
    "    if n is None:\n",
    "        return 0\n",
    "    \n",
    "    digit_count = [0] * 10\n",
    "    for digit in n:\n",
    "        digit_count[int(digit)] += 1\n",
    "    \n",
    "    for i in range(len(n)):\n",
    "        if digit_count[i] != int(n[i]):\n",
    "            return 0\n",
    "    \n",
    "    unique_digits = set(int(d) for d in n)\n",
    "    return len(unique_digits)\n"
   ]
  },
  {
   "cell_type": "code",
   "execution_count": null,
   "id": "b8148d20",
   "metadata": {},
   "outputs": [],
   "source": [
    "n = \"1210\"\n",
    "print(FindAutoCount(n))\n"
   ]
  },
  {
   "cell_type": "markdown",
   "id": "9c667362",
   "metadata": {},
   "source": [
    "5. Write a function isAnagrams () to validate if the provided two strings are anagrams or not. If \n",
    "the two strings are anagrams, then return ‘Anagrams. Otherwise, return ‘Word is not\n",
    "anagrams.\n",
    "Words Example: Race and Care, Listen and Silent"
   ]
  },
  {
   "cell_type": "code",
   "execution_count": null,
   "id": "ee875863",
   "metadata": {},
   "outputs": [],
   "source": [
    "def isAnagrams(str1, str2):\n",
    "    if len(str1) != len(str2):\n",
    "        return \"Words are not anagrams.\"\n",
    "    else:\n",
    "        sorted_str1 = sorted(str1)\n",
    "        sorted_str2 = sorted(str2)\n",
    "        if sorted_str1 == sorted_str2:\n",
    "            return \"Words are anagrams.\"\n",
    "        else:\n",
    "            return \"Words are not anagrams.\"\n"
   ]
  },
  {
   "cell_type": "code",
   "execution_count": null,
   "id": "b5ba7f64",
   "metadata": {},
   "outputs": [],
   "source": [
    "result = isAnagrams(\"race\", \"care\")\n",
    "print(result)  # Output: Words are anagrams.\n"
   ]
  },
  {
   "cell_type": "code",
   "execution_count": null,
   "id": "1283d642",
   "metadata": {},
   "outputs": [],
   "source": [
    "def isAnagrams(str1, str2):\n",
    "    if sorted(str1) == sorted(str2):\n",
    "        return \"Anagrams\"\n",
    "    else:\n",
    "        return \"Word is not anagrams\"\n",
    "    \n"
   ]
  },
  {
   "cell_type": "code",
   "execution_count": null,
   "id": "244867d5",
   "metadata": {},
   "outputs": [],
   "source": [
    "print(isAnagrams(\"Race\", \"Care\"))  # Anagrams\n",
    "print(isAnagrams(\"Listen\", \"Silent\"))  # Anagrams\n",
    "print(isAnagrams(\"Python\", \"Java\"))  # Word is not anagrams\n"
   ]
  },
  {
   "cell_type": "code",
   "execution_count": null,
   "id": "52ab2495",
   "metadata": {},
   "outputs": [],
   "source": [
    "# Python program to check if two strings are anagrams of\n",
    "# each other\n",
    "NO_OF_CHARS = 256\n",
    "\n",
    "# Function to check whether two strings are anagram of\n",
    "# each other\n",
    "\n",
    "\n",
    "def areAnagram(str1, str2):\n",
    "\n",
    "\t# Create two count arrays and initialize all values as 0\n",
    "\tcount1 = [0] * NO_OF_CHARS\n",
    "\tcount2 = [0] * NO_OF_CHARS\n",
    "\n",
    "\t# For each character in input strings, increment count\n",
    "\t# in the corresponding count array\n",
    "\tfor i in str1:\n",
    "\t\tcount1[ord(i)] += 1\n",
    "\n",
    "\tfor i in str2:\n",
    "\t\tcount2[ord(i)] += 1\n",
    "\n",
    "\t# If both strings are of different length. Removing this\n",
    "\t# condition will make the program fail for strings like\n",
    "\t# \"aaca\" and \"aca\"\n",
    "\tif len(str1) != len(str2):\n",
    "\t\treturn 0\n",
    "\n",
    "\t# Compare count arrays\n",
    "\tfor i in xrange(NO_OF_CHARS):\n",
    "\t\tif count1[i] != count2[i]:\n",
    "\t\t\treturn 0\n",
    "\n",
    "\treturn 1\n",
    "\n",
    "\n",
    "# Driver code\n",
    "str1 = \"gram\"\n",
    "str2 = \"arm\"\n",
    "\n",
    "# Function call\n",
    "if areAnagram(str1, str2):\n",
    "\tprint \"The two strings are anagram of each other\"\n",
    "else:\n",
    "\tprint \"The two strings are not anagram of each other\"\n",
    "\n",
    "# This code is contributed by Bhavya Jain\n"
   ]
  },
  {
   "cell_type": "code",
   "execution_count": null,
   "id": "00988f8f",
   "metadata": {},
   "outputs": [],
   "source": [
    "str1 = \"Race\"\n",
    "str2 = \"Care\"\n",
    "\n",
    "# convert both the strings into lowercase\n",
    "str1 = str1.lower()\n",
    "str2 = str2.lower()\n",
    "\n",
    "# check if length is same\n",
    "if(len(str1) == len(str2)):\n",
    "\n",
    "    # sort the strings\n",
    "    sorted_str1 = sorted(str1)\n",
    "    sorted_str2 = sorted(str2)\n",
    "\n",
    "    # if sorted char arrays are same\n",
    "    if(sorted_str1 == sorted_str2):\n",
    "        print(str1 + \" and \" + str2 + \" are anagram.\")\n",
    "    else:\n",
    "        print(str1 + \" and \" + str2 + \" are not anagram.\")\n",
    "\n",
    "else:\n",
    "    print(str1 + \" and \" + str2 + \" are not anagram.\")"
   ]
  },
  {
   "cell_type": "code",
   "execution_count": null,
   "id": "1c0b20eb",
   "metadata": {},
   "outputs": [],
   "source": []
  }
 ],
 "metadata": {
  "kernelspec": {
   "display_name": "Python 3 (ipykernel)",
   "language": "python",
   "name": "python3"
  },
  "language_info": {
   "codemirror_mode": {
    "name": "ipython",
    "version": 3
   },
   "file_extension": ".py",
   "mimetype": "text/x-python",
   "name": "python",
   "nbconvert_exporter": "python",
   "pygments_lexer": "ipython3",
   "version": "3.9.13"
  }
 },
 "nbformat": 4,
 "nbformat_minor": 5
}
